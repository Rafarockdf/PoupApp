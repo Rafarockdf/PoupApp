{
 "cells": [
  {
   "cell_type": "code",
   "execution_count": 134,
   "metadata": {},
   "outputs": [],
   "source": [
    "\n",
    "from datetime import datetime, timedelta\n",
    "\n",
    "def ultimo_dia_util(data=None):\n",
    "    # Use a data atual se nenhuma data for fornecida\n",
    "    if data is None:\n",
    "        data = datetime.now()\n",
    "    else:\n",
    "        data = datetime.strptime(data, \"%d-%m-%Y\")\n",
    "    \n",
    "    if data.weekday() == 5:  # Sábado\n",
    "        data -= timedelta(days=1)\n",
    "    elif data.weekday() == 6:  # Domingo\n",
    "        data -= timedelta(days=2)\n",
    "    \n",
    "    return data.strftime(\"%d-%m-%Y\")"
   ]
  },
  {
   "cell_type": "code",
   "execution_count": null,
   "metadata": {},
   "outputs": [],
   "source": [
    "import pandas as pd\n",
    "def obter_taxa_cdi():\n",
    "    url = 'https://api.bcb.gov.br/dados/serie/bcdata.sgs.4389/dados?formato=json'\n",
    "    taxa = pd.read_json(url)\n",
    "    # Converte a coluna 'data' para datetime\n",
    "    taxa['data'] = pd.to_datetime(taxa['data'], dayfirst=True)\n",
    "    \n",
    "    # Ordena o DataFrame pela data em ordem decrescente\n",
    "    taxa = taxa.sort_values(by='data', ascending=False)\n",
    "    maior = max(taxa.index)\n",
    "    taxa = taxa\n",
    "    \n",
    "    return taxa"
   ]
  },
  {
   "cell_type": "code",
   "execution_count": 136,
   "metadata": {},
   "outputs": [
    {
     "name": "stdout",
     "output_type": "stream",
     "text": [
      "Taxa SELIC (01/11/2024): 10.65%\n",
      "None\n"
     ]
    }
   ],
   "source": [
    "import requests\n",
    "import json\n",
    "def obter_taxa_selic():\n",
    "    url = \"https://api.bcb.gov.br/dados/serie/bcdata.sgs.1178/dados/ultimos/1?formato=json\"\n",
    "    response = requests.get(url)\n",
    "\n",
    "    if response.status_code == 200:\n",
    "        dados = json.loads(response.text)\n",
    "        taxa_selic = dados[0][\"valor\"]\n",
    "        data = dados[0][\"data\"]\n",
    "        print(f\"Taxa SELIC ({data}): {taxa_selic}%\")\n",
    "    else:\n",
    "        print(\"Erro ao obter a taxa SELIC\")\n",
    "\n",
    "\n",
    "print(obter_taxa_selic())"
   ]
  },
  {
   "cell_type": "code",
   "execution_count": 137,
   "metadata": {},
   "outputs": [
    {
     "data": {
      "text/html": [
       "<div>\n",
       "<style scoped>\n",
       "    .dataframe tbody tr th:only-of-type {\n",
       "        vertical-align: middle;\n",
       "    }\n",
       "\n",
       "    .dataframe tbody tr th {\n",
       "        vertical-align: top;\n",
       "    }\n",
       "\n",
       "    .dataframe thead th {\n",
       "        text-align: right;\n",
       "    }\n",
       "</style>\n",
       "<table border=\"1\" class=\"dataframe\">\n",
       "  <thead>\n",
       "    <tr style=\"text-align: right;\">\n",
       "      <th></th>\n",
       "      <th>data</th>\n",
       "      <th>valor</th>\n",
       "    </tr>\n",
       "  </thead>\n",
       "  <tbody>\n",
       "    <tr>\n",
       "      <th>9672</th>\n",
       "      <td>2024-10-31</td>\n",
       "      <td>10.65</td>\n",
       "    </tr>\n",
       "    <tr>\n",
       "      <th>9671</th>\n",
       "      <td>2024-10-30</td>\n",
       "      <td>10.65</td>\n",
       "    </tr>\n",
       "    <tr>\n",
       "      <th>9670</th>\n",
       "      <td>2024-10-29</td>\n",
       "      <td>10.65</td>\n",
       "    </tr>\n",
       "    <tr>\n",
       "      <th>9669</th>\n",
       "      <td>2024-10-28</td>\n",
       "      <td>10.65</td>\n",
       "    </tr>\n",
       "    <tr>\n",
       "      <th>9668</th>\n",
       "      <td>2024-10-25</td>\n",
       "      <td>10.65</td>\n",
       "    </tr>\n",
       "    <tr>\n",
       "      <th>...</th>\n",
       "      <td>...</td>\n",
       "      <td>...</td>\n",
       "    </tr>\n",
       "    <tr>\n",
       "      <th>4</th>\n",
       "      <td>1986-03-17</td>\n",
       "      <td>18.75</td>\n",
       "    </tr>\n",
       "    <tr>\n",
       "      <th>3</th>\n",
       "      <td>1986-03-14</td>\n",
       "      <td>17.67</td>\n",
       "    </tr>\n",
       "    <tr>\n",
       "      <th>2</th>\n",
       "      <td>1986-03-12</td>\n",
       "      <td>18.51</td>\n",
       "    </tr>\n",
       "    <tr>\n",
       "      <th>1</th>\n",
       "      <td>1986-03-10</td>\n",
       "      <td>18.99</td>\n",
       "    </tr>\n",
       "    <tr>\n",
       "      <th>0</th>\n",
       "      <td>1986-03-06</td>\n",
       "      <td>18.72</td>\n",
       "    </tr>\n",
       "  </tbody>\n",
       "</table>\n",
       "<p>9673 rows × 2 columns</p>\n",
       "</div>"
      ],
      "text/plain": [
       "           data  valor\n",
       "9672 2024-10-31  10.65\n",
       "9671 2024-10-30  10.65\n",
       "9670 2024-10-29  10.65\n",
       "9669 2024-10-28  10.65\n",
       "9668 2024-10-25  10.65\n",
       "...         ...    ...\n",
       "4    1986-03-17  18.75\n",
       "3    1986-03-14  17.67\n",
       "2    1986-03-12  18.51\n",
       "1    1986-03-10  18.99\n",
       "0    1986-03-06  18.72\n",
       "\n",
       "[9673 rows x 2 columns]"
      ]
     },
     "execution_count": 137,
     "metadata": {},
     "output_type": "execute_result"
    }
   ],
   "source": [
    "ultimo_dia_uti = ultimo_dia_util()\n",
    "\n",
    "\n",
    "taxa_cdi = obter_taxa_cdi()\n",
    "\n",
    "\n",
    "taxa_cdi\n"
   ]
  }
 ],
 "metadata": {
  "kernelspec": {
   "display_name": "Python 3",
   "language": "python",
   "name": "python3"
  },
  "language_info": {
   "codemirror_mode": {
    "name": "ipython",
    "version": 3
   },
   "file_extension": ".py",
   "mimetype": "text/x-python",
   "name": "python",
   "nbconvert_exporter": "python",
   "pygments_lexer": "ipython3",
   "version": "3.11.2"
  }
 },
 "nbformat": 4,
 "nbformat_minor": 2
}
