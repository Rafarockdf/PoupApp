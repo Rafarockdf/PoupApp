{
 "cells": [
  {
   "cell_type": "code",
   "execution_count": 162,
   "metadata": {},
   "outputs": [],
   "source": [
    "\n",
    "from datetime import datetime, timedelta\n",
    "\n",
    "def ultimo_dia_util(data=None):\n",
    "    # Use a data atual se nenhuma data for fornecida\n",
    "    if data is None:\n",
    "        data = datetime.now()\n",
    "    else:\n",
    "        data = datetime.strptime(data, \"%d-%m-%Y\")\n",
    "    \n",
    "    if data.weekday() == 5:  # Sábado\n",
    "        data -= timedelta(days=1)\n",
    "    elif data.weekday() == 6:  # Domingo\n",
    "        data -= timedelta(days=2)\n",
    "    \n",
    "    return data.strftime(\"%d-%m-%Y\")"
   ]
  },
  {
   "cell_type": "code",
   "execution_count": 163,
   "metadata": {},
   "outputs": [],
   "source": [
    "import pandas as pd\n",
    "def obter_taxa_cdi():\n",
    "    url = 'https://api.bcb.gov.br/dados/serie/bcdata.sgs.4389/dados?formato=json'\n",
    "    taxa = pd.read_json(url)\n",
    "    # Converte a coluna 'data' para datetime\n",
    "    taxa['data'] = pd.to_datetime(taxa['data'], dayfirst=True)\n",
    "    \n",
    "    # Ordena o DataFrame pela data em ordem decrescente\n",
    "    taxa = taxa.sort_values(by='data', ascending=False)\n",
    "    taxa.reset_index()\n",
    "    taxa2 = taxa[['data', 'valor']].iloc[0]\n",
    "    \n",
    "    return taxa2"
   ]
  },
  {
   "cell_type": "code",
   "execution_count": 164,
   "metadata": {},
   "outputs": [
    {
     "name": "stdout",
     "output_type": "stream",
     "text": [
      "Taxa SELIC (01/11/2024): 10.65%\n",
      "None\n"
     ]
    }
   ],
   "source": [
    "import requests\n",
    "import json\n",
    "def obter_taxa_selic():\n",
    "    url = \"https://api.bcb.gov.br/dados/serie/bcdata.sgs.1178/dados/ultimos/1?formato=json\"\n",
    "    response = requests.get(url)\n",
    "\n",
    "    if response.status_code == 200:\n",
    "        dados = json.loads(response.text)\n",
    "        taxa_selic = dados[0][\"valor\"]\n",
    "        data = dados[0][\"data\"]\n",
    "        print(f\"Taxa SELIC ({data}): {taxa_selic}%\")\n",
    "    else:\n",
    "        print(\"Erro ao obter a taxa SELIC\")\n",
    "\n",
    "\n",
    "print(obter_taxa_selic())"
   ]
  },
  {
   "cell_type": "code",
   "execution_count": null,
   "metadata": {},
   "outputs": [
    {
     "data": {
      "text/plain": [
       "data     2024-10-31 00:00:00\n",
       "valor                  10.65\n",
       "Name: 9672, dtype: object"
      ]
     },
     "execution_count": 165,
     "metadata": {},
     "output_type": "execute_result"
    }
   ],
   "source": [
    "ultimo_dia_uti = ultimo_dia_util()\n",
    "\n",
    "\n",
    "taxa_cdi = obter_taxa_cdi()\n",
    "\n",
    "taxa_cdi\n",
    "\n"
   ]
  },
  {
   "cell_type": "code",
   "execution_count": 1,
   "metadata": {},
   "outputs": [
    {
     "name": "stdout",
     "output_type": "stream",
     "text": [
      "5\n"
     ]
    }
   ],
   "source": [
    "print(5)"
   ]
  },
  {
   "cell_type": "code",
   "execution_count": null,
   "metadata": {},
   "outputs": [],
   "source": []
  }
 ],
 "metadata": {
  "kernelspec": {
   "display_name": "Python 3",
   "language": "python",
   "name": "python3"
  },
  "language_info": {
   "codemirror_mode": {
    "name": "ipython",
    "version": 3
   },
   "file_extension": ".py",
   "mimetype": "text/x-python",
   "name": "python",
   "nbconvert_exporter": "python",
   "pygments_lexer": "ipython3",
   "version": "3.11.2"
  }
 },
 "nbformat": 4,
 "nbformat_minor": 2
}
